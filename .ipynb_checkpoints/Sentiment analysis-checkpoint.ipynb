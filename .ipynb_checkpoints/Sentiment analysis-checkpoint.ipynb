{
 "cells": [
  {
   "cell_type": "code",
   "execution_count": 3,
   "id": "10c44860",
   "metadata": {},
   "outputs": [],
   "source": [
    "import pandas as pd\n",
    "import csv\n",
    "from tabulate import tabulate"
   ]
  },
  {
   "cell_type": "code",
   "execution_count": 5,
   "id": "ee4f28f4",
   "metadata": {},
   "outputs": [
    {
     "ename": "SyntaxError",
     "evalue": "unexpected character after line continuation character (1413079949.py, line 2)",
     "output_type": "error",
     "traceback": [
      "\u001b[1;36m  Cell \u001b[1;32mIn[5], line 2\u001b[1;36m\u001b[0m\n\u001b[1;33m    tweets_df = pd.read_csv(data_dir \\ \"stockerbot-export.csv\", error_bad_lines=False, encoding = \"UTF-8\")\u001b[0m\n\u001b[1;37m                                      ^\u001b[0m\n\u001b[1;31mSyntaxError\u001b[0m\u001b[1;31m:\u001b[0m unexpected character after line continuation character\n"
     ]
    }
   ],
   "source": [
    "data_dir = \"data/\"\n",
    "tweets_df = pd.read_csv(data_dir + \"stockerbot-export.csv\", error_bad_lines=False, encoding = \"UTF-8\")\n",
    "tickers_df = pd.read_csv(data_dir + \"stocks_cleaned.csv\")\n",
    "with open('labmt.0026752.s001.txt', 'r') as f:\n",
    "    labMT = csv.reader(f, delimiter='\\t')\n",
    "    next(labMT)\n",
    "    next(labMT)\n",
    "    next(labMT)\n",
    "    word_happiness = {}\n",
    "    for row in labMT:\n",
    "        word = row[0]\n",
    "        happiness_average = (row[2])\n",
    "        word_happiness[word] = happiness_average\n",
    "        \n",
    "Word_happ = pd.df = pd.DataFrame([word_happiness])"
   ]
  },
  {
   "cell_type": "code",
   "execution_count": null,
   "id": "62db6653",
   "metadata": {},
   "outputs": [],
   "source": [
    "Word_happ = Word_happ.set_index('Word').T"
   ]
  },
  {
   "cell_type": "code",
   "execution_count": null,
   "id": "ef964b00",
   "metadata": {},
   "outputs": [],
   "source": [
    "# Create a new dict to store average happiness\n",
    "\n",
    "tweet_scores = {}\n",
    "tweet = []\n",
    "\n",
    "# Convert non-string tweet values to NaN\n",
    "tweets_df['text'] = tweets_df['text'].apply(lambda x: x if isinstance(x, str) else pd.NA)\n",
    "tweets_df['text'] = tweets_df['text'].replace('[^a-zA-Z ]', '', regex=True)\n",
    "\n",
    "\n",
    "\n",
    "tweets_df['text'] = tweets_df['text'].str.lower().str.split().fillna('NA')\n",
    "Word_happ.index = Word_happ.index.str.lower()\n",
    "\n",
    "\n",
    "print(tweets_df['text'])\n",
    "print(Word_happ)\n"
   ]
  },
  {
   "cell_type": "code",
   "execution_count": null,
   "id": "3a36bffc",
   "metadata": {},
   "outputs": [],
   "source": [
    "def calculate_tweet_happiness(tweet):\n",
    "    tweet = Word_happ.index.str.extract(f'({\"|\".join(tweet)})')\n",
    "    total_score = 0\n",
    "    num_words = 0\n",
    "    for word in tweet:\n",
    "        if ((word != 0) and (word != 'NaN')):\n",
    "            total_score += float(Word_happ[word])\n",
    "            num_words += 1\n",
    "    if(total_score != 0):\n",
    "        print('looking good')\n",
    "    return total_score / max(num_words, 1)\n",
    "\n",
    "tweets_df['average_happiness'] = tweets_df['text'].apply(calculate_tweet_happiness)\n",
    "\n",
    "\n",
    "\n",
    "print(tweets_df)"
   ]
  },
  {
   "cell_type": "code",
   "execution_count": null,
   "id": "b27e593b",
   "metadata": {},
   "outputs": [],
   "source": [
    "print(tweets_df)"
   ]
  },
  {
   "cell_type": "code",
   "execution_count": null,
   "id": "c7984e38",
   "metadata": {},
   "outputs": [],
   "source": []
  }
 ],
 "metadata": {
  "kernelspec": {
   "display_name": "Python 3 (ipykernel)",
   "language": "python",
   "name": "python3"
  },
  "language_info": {
   "codemirror_mode": {
    "name": "ipython",
    "version": 3
   },
   "file_extension": ".py",
   "mimetype": "text/x-python",
   "name": "python",
   "nbconvert_exporter": "python",
   "pygments_lexer": "ipython3",
   "version": "3.11.4"
  }
 },
 "nbformat": 4,
 "nbformat_minor": 5
}

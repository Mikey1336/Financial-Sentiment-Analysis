{
 "cells": [
  {
   "cell_type": "code",
   "execution_count": 1,
   "id": "10c44860",
   "metadata": {},
   "outputs": [],
   "source": [
    "import pandas as pd\n",
    "import csv\n",
    "from tabulate import tabulate"
   ]
  },
  {
   "cell_type": "code",
   "execution_count": 2,
   "id": "ee4f28f4",
   "metadata": {},
   "outputs": [
    {
     "name": "stderr",
     "output_type": "stream",
     "text": [
      "C:\\Users\\MasterOfKeys\\AppData\\Local\\Temp\\ipykernel_13516\\3611739715.py:1: FutureWarning: The error_bad_lines argument has been deprecated and will be removed in a future version. Use on_bad_lines in the future.\n",
      "\n",
      "\n",
      "  tweets_df = pd.read_csv(\"stockerbot-export.csv\", error_bad_lines=False, encoding = \"UTF-8\")\n",
      "Skipping line 3115: expected 8 fields, saw 12\n",
      "Skipping line 3196: expected 8 fields, saw 17\n",
      "Skipping line 3207: expected 8 fields, saw 17\n",
      "Skipping line 3257: expected 8 fields, saw 17\n",
      "Skipping line 3522: expected 8 fields, saw 17\n",
      "Skipping line 4080: expected 8 fields, saw 17\n",
      "Skipping line 4089: expected 8 fields, saw 17\n",
      "Skipping line 4090: expected 8 fields, saw 17\n",
      "Skipping line 4501: expected 8 fields, saw 12\n",
      "\n"
     ]
    }
   ],
   "source": [
    "tweets_df = pd.read_csv(\"stockerbot-export.csv\", error_bad_lines=False, encoding = \"UTF-8\")\n",
    "tickers_df = pd.read_csv(\"stocks_cleaned.csv\")\n",
    "with open('labmt.0026752.s001.txt', 'r') as f:\n",
    "    labMT = csv.reader(f, delimiter='\\t')\n",
    "    next(labMT)\n",
    "    next(labMT)\n",
    "    next(labMT)\n",
    "    word_happiness = {}\n",
    "    for row in labMT:\n",
    "        word = row[0]\n",
    "        happiness_average = (row[2])\n",
    "        word_happiness[word] = happiness_average\n",
    "        \n",
    "Word_happ = pd.df = pd.DataFrame([word_happiness])"
   ]
  },
  {
   "cell_type": "code",
   "execution_count": 3,
   "id": "62db6653",
   "metadata": {},
   "outputs": [],
   "source": [
    "Word_happ = Word_happ.set_index('Word').T"
   ]
  },
  {
   "cell_type": "code",
   "execution_count": 4,
   "id": "ef964b00",
   "metadata": {},
   "outputs": [
    {
     "name": "stdout",
     "output_type": "stream",
     "text": [
      "0        [video, i, was, in, my, office, i, was, mindin...\n",
      "1        [the, price, of, lumber, lbf, is, down, since,...\n",
      "2        [who, says, the, american, dream, is, dead, ht...\n",
      "3        [barry, silbert, is, extremely, optimistic, on...\n",
      "4        [how, satellites, avoid, attacks, and, space, ...\n",
      "                               ...                        \n",
      "28262                                   [fb, acfdafcbaecf]\n",
      "28263          [btc, httpstcotrikydft, httpstconzjqtjgndz]\n",
      "28264    [rt, investinhd, nuff, said, tel, telcoin, tel...\n",
      "28265             [btc, httpstcooamanolx, httpstcoezdkctl]\n",
      "28266    [stellar, xlm, price, binance, registration, i...\n",
      "Name: text, Length: 28267, dtype: object\n",
      "Word      happiness_average\n",
      "laughter               8.50\n",
      "happiness              8.44\n",
      "love                   8.42\n",
      "happy                  8.30\n",
      "laughed                8.26\n",
      "...                     ...\n",
      "murder                 1.48\n",
      "terrorism              1.48\n",
      "rape                   1.44\n",
      "suicide                1.30\n",
      "terrorist              1.30\n",
      "\n",
      "[10222 rows x 1 columns]\n"
     ]
    }
   ],
   "source": [
    "# Create a new dict to store average happiness\n",
    "\n",
    "tweet_scores = {}\n",
    "tweet = []\n",
    "\n",
    "# Convert non-string tweet values to NaN\n",
    "tweets_df['text'] = tweets_df['text'].apply(lambda x: x if isinstance(x, str) else pd.NA)\n",
    "tweets_df['text'] = tweets_df['text'].replace('[^a-zA-Z ]', '', regex=True)\n",
    "\n",
    "\n",
    "\n",
    "tweets_df['text'] = tweets_df['text'].str.lower().str.split().fillna('NA')\n",
    "Word_happ.index = Word_happ.index.str.lower()\n",
    "\n",
    "\n",
    "print(tweets_df['text'])\n",
    "print(Word_happ)\n"
   ]
  },
  {
   "cell_type": "code",
   "execution_count": null,
   "id": "3a36bffc",
   "metadata": {},
   "outputs": [],
   "source": [
    "def calculate_tweet_happiness(tweet):\n",
    "    tweet = Word_happ.index.str.extract(f'({\"|\".join(tweet)})')\n",
    "    total_score = 0\n",
    "    num_words = 0\n",
    "    for word in tweet:\n",
    "        if ((word != 0) and (word != 'NaN')):\n",
    "            total_score += float(Word_happ[word])\n",
    "            num_words += 1\n",
    "    if(total_score != 0):\n",
    "        print('looking good')\n",
    "    return total_score / max(num_words, 1)\n",
    "\n",
    "tweets_df['average_happiness'] = tweets_df['text'].apply(calculate_tweet_happiness)\n",
    "\n",
    "\n",
    "\n",
    "print(tweets_df)"
   ]
  },
  {
   "cell_type": "code",
   "execution_count": null,
   "id": "b27e593b",
   "metadata": {},
   "outputs": [],
   "source": [
    "print(tweets_df)"
   ]
  },
  {
   "cell_type": "code",
   "execution_count": null,
   "id": "c7984e38",
   "metadata": {},
   "outputs": [],
   "source": []
  }
 ],
 "metadata": {
  "kernelspec": {
   "display_name": "Python 3 (ipykernel)",
   "language": "python",
   "name": "python3"
  },
  "language_info": {
   "codemirror_mode": {
    "name": "ipython",
    "version": 3
   },
   "file_extension": ".py",
   "mimetype": "text/x-python",
   "name": "python",
   "nbconvert_exporter": "python",
   "pygments_lexer": "ipython3",
   "version": "3.11.4"
  }
 },
 "nbformat": 4,
 "nbformat_minor": 5
}

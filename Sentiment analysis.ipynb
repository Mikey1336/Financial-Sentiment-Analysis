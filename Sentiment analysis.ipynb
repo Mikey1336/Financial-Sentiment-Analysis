{
 "cells": [
  {
   "cell_type": "code",
   "execution_count": 3,
   "id": "10c44860",
   "metadata": {},
   "outputs": [],
   "source": [
    "import pandas as pd\n",
    "import csv\n",
    "from tabulate import tabulate"
   ]
  },
  {
   "cell_type": "code",
   "execution_count": 6,
   "id": "ee4f28f4",
   "metadata": {},
   "outputs": [
    {
     "name": "stderr",
     "output_type": "stream",
     "text": [
      "C:\\Users\\BSand\\AppData\\Local\\Temp\\ipykernel_29952\\2102858096.py:2: FutureWarning: The error_bad_lines argument has been deprecated and will be removed in a future version. Use on_bad_lines in the future.\n",
      "\n",
      "\n",
      "  tweets_df = pd.read_csv(data_dir + \"stockerbot-export.csv\", error_bad_lines=False, encoding = \"UTF-8\")\n",
      "Skipping line 731: expected 8 fields, saw 13\n",
      "Skipping line 2836: expected 8 fields, saw 15\n",
      "Skipping line 3058: expected 8 fields, saw 12\n",
      "Skipping line 3113: expected 8 fields, saw 12\n",
      "Skipping line 3194: expected 8 fields, saw 17\n",
      "Skipping line 3205: expected 8 fields, saw 17\n",
      "Skipping line 3255: expected 8 fields, saw 17\n",
      "Skipping line 3520: expected 8 fields, saw 17\n",
      "Skipping line 4078: expected 8 fields, saw 17\n",
      "Skipping line 4087: expected 8 fields, saw 17\n",
      "Skipping line 4088: expected 8 fields, saw 17\n",
      "Skipping line 4499: expected 8 fields, saw 12\n",
      "\n"
     ]
    },
    {
     "ename": "FileNotFoundError",
     "evalue": "[Errno 2] No such file or directory: 'labmt.0026752.s001.txt'",
     "output_type": "error",
     "traceback": [
      "\u001b[1;31m---------------------------------------------------------------------------\u001b[0m",
      "\u001b[1;31mFileNotFoundError\u001b[0m                         Traceback (most recent call last)",
      "Cell \u001b[1;32mIn[6], line 4\u001b[0m\n\u001b[0;32m      2\u001b[0m tweets_df \u001b[38;5;241m=\u001b[39m pd\u001b[38;5;241m.\u001b[39mread_csv(data_dir \u001b[38;5;241m+\u001b[39m \u001b[38;5;124m\"\u001b[39m\u001b[38;5;124mstockerbot-export.csv\u001b[39m\u001b[38;5;124m\"\u001b[39m, error_bad_lines\u001b[38;5;241m=\u001b[39m\u001b[38;5;28;01mFalse\u001b[39;00m, encoding \u001b[38;5;241m=\u001b[39m \u001b[38;5;124m\"\u001b[39m\u001b[38;5;124mUTF-8\u001b[39m\u001b[38;5;124m\"\u001b[39m)\n\u001b[0;32m      3\u001b[0m tickers_df \u001b[38;5;241m=\u001b[39m pd\u001b[38;5;241m.\u001b[39mread_csv(data_dir \u001b[38;5;241m+\u001b[39m \u001b[38;5;124m\"\u001b[39m\u001b[38;5;124mstocks_cleaned.csv\u001b[39m\u001b[38;5;124m\"\u001b[39m)\n\u001b[1;32m----> 4\u001b[0m \u001b[38;5;28;01mwith\u001b[39;00m \u001b[38;5;28mopen\u001b[39m(\u001b[38;5;124m'\u001b[39m\u001b[38;5;124mlabmt.0026752.s001.txt\u001b[39m\u001b[38;5;124m'\u001b[39m, \u001b[38;5;124m'\u001b[39m\u001b[38;5;124mr\u001b[39m\u001b[38;5;124m'\u001b[39m) \u001b[38;5;28;01mas\u001b[39;00m f:\n\u001b[0;32m      5\u001b[0m     labMT \u001b[38;5;241m=\u001b[39m csv\u001b[38;5;241m.\u001b[39mreader(f, delimiter\u001b[38;5;241m=\u001b[39m\u001b[38;5;124m'\u001b[39m\u001b[38;5;130;01m\\t\u001b[39;00m\u001b[38;5;124m'\u001b[39m)\n\u001b[0;32m      6\u001b[0m     \u001b[38;5;28mnext\u001b[39m(labMT)\n",
      "File \u001b[1;32mC:\\ProgramData\\anaconda3\\Lib\\site-packages\\IPython\\core\\interactiveshell.py:284\u001b[0m, in \u001b[0;36m_modified_open\u001b[1;34m(file, *args, **kwargs)\u001b[0m\n\u001b[0;32m    277\u001b[0m \u001b[38;5;28;01mif\u001b[39;00m file \u001b[38;5;129;01min\u001b[39;00m {\u001b[38;5;241m0\u001b[39m, \u001b[38;5;241m1\u001b[39m, \u001b[38;5;241m2\u001b[39m}:\n\u001b[0;32m    278\u001b[0m     \u001b[38;5;28;01mraise\u001b[39;00m \u001b[38;5;167;01mValueError\u001b[39;00m(\n\u001b[0;32m    279\u001b[0m         \u001b[38;5;124mf\u001b[39m\u001b[38;5;124m\"\u001b[39m\u001b[38;5;124mIPython won\u001b[39m\u001b[38;5;124m'\u001b[39m\u001b[38;5;124mt let you open fd=\u001b[39m\u001b[38;5;132;01m{\u001b[39;00mfile\u001b[38;5;132;01m}\u001b[39;00m\u001b[38;5;124m by default \u001b[39m\u001b[38;5;124m\"\u001b[39m\n\u001b[0;32m    280\u001b[0m         \u001b[38;5;124m\"\u001b[39m\u001b[38;5;124mas it is likely to crash IPython. If you know what you are doing, \u001b[39m\u001b[38;5;124m\"\u001b[39m\n\u001b[0;32m    281\u001b[0m         \u001b[38;5;124m\"\u001b[39m\u001b[38;5;124myou can use builtins\u001b[39m\u001b[38;5;124m'\u001b[39m\u001b[38;5;124m open.\u001b[39m\u001b[38;5;124m\"\u001b[39m\n\u001b[0;32m    282\u001b[0m     )\n\u001b[1;32m--> 284\u001b[0m \u001b[38;5;28;01mreturn\u001b[39;00m io_open(file, \u001b[38;5;241m*\u001b[39margs, \u001b[38;5;241m*\u001b[39m\u001b[38;5;241m*\u001b[39mkwargs)\n",
      "\u001b[1;31mFileNotFoundError\u001b[0m: [Errno 2] No such file or directory: 'labmt.0026752.s001.txt'"
     ]
    }
   ],
   "source": [
    "data_dir = \"data/\"\n",
    "tweets_df = pd.read_csv(data_dir + \"stockerbot-export.csv\", error_bad_lines=False, encoding = \"UTF-8\")\n",
    "tickers_df = pd.read_csv(data_dir + \"stocks_cleaned.csv\")\n",
    "with open('labmt.0026752.s001.txt', 'r') as f:\n",
    "    labMT = csv.reader(f, delimiter='\\t')\n",
    "    next(labMT)\n",
    "    next(labMT)\n",
    "    next(labMT)\n",
    "    word_happiness = {}\n",
    "    for row in labMT:\n",
    "        word = row[0]\n",
    "        happiness_average = (row[2])\n",
    "        word_happiness[word] = happiness_average\n",
    "        \n",
    "Word_happ = pd.df = pd.DataFrame([word_happiness])"
   ]
  },
  {
   "cell_type": "code",
   "execution_count": null,
   "id": "62db6653",
   "metadata": {},
   "outputs": [],
   "source": [
    "Word_happ = Word_happ.set_index('Word').T"
   ]
  },
  {
   "cell_type": "code",
   "execution_count": null,
   "id": "ef964b00",
   "metadata": {},
   "outputs": [],
   "source": [
    "# Create a new dict to store average happiness\n",
    "\n",
    "tweet_scores = {}\n",
    "tweet = []\n",
    "\n",
    "# Convert non-string tweet values to NaN\n",
    "tweets_df['text'] = tweets_df['text'].apply(lambda x: x if isinstance(x, str) else pd.NA)\n",
    "tweets_df['text'] = tweets_df['text'].replace('[^a-zA-Z ]', '', regex=True)\n",
    "\n",
    "\n",
    "\n",
    "tweets_df['text'] = tweets_df['text'].str.lower().str.split().fillna('NA')\n",
    "Word_happ.index = Word_happ.index.str.lower()\n",
    "\n",
    "\n",
    "print(tweets_df['text'])\n",
    "print(Word_happ)\n"
   ]
  },
  {
   "cell_type": "code",
   "execution_count": null,
   "id": "3a36bffc",
   "metadata": {},
   "outputs": [],
   "source": [
    "def calculate_tweet_happiness(tweet):\n",
    "    tweet = Word_happ.index.str.extract(f'({\"|\".join(tweet)})')\n",
    "    total_score = 0\n",
    "    num_words = 0\n",
    "    for word in tweet:\n",
    "        if ((word != 0) and (word != 'NaN')):\n",
    "            total_score += float(Word_happ[word])\n",
    "            num_words += 1\n",
    "    if(total_score != 0):\n",
    "        print('looking good')\n",
    "    return total_score / max(num_words, 1)\n",
    "\n",
    "tweets_df['average_happiness'] = tweets_df['text'].apply(calculate_tweet_happiness)\n",
    "\n",
    "\n",
    "\n",
    "print(tweets_df)"
   ]
  },
  {
   "cell_type": "code",
   "execution_count": null,
   "id": "b27e593b",
   "metadata": {},
   "outputs": [],
   "source": [
    "print(tweets_df)"
   ]
  },
  {
   "cell_type": "code",
   "execution_count": null,
   "id": "c7984e38",
   "metadata": {},
   "outputs": [],
   "source": []
  }
 ],
 "metadata": {
  "kernelspec": {
   "display_name": "Python 3 (ipykernel)",
   "language": "python",
   "name": "python3"
  },
  "language_info": {
   "codemirror_mode": {
    "name": "ipython",
    "version": 3
   },
   "file_extension": ".py",
   "mimetype": "text/x-python",
   "name": "python",
   "nbconvert_exporter": "python",
   "pygments_lexer": "ipython3",
   "version": "3.11.4"
  }
 },
 "nbformat": 4,
 "nbformat_minor": 5
}
